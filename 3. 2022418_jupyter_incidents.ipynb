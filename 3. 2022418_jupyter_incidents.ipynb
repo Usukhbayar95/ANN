{
 "cells": [
  {
   "cell_type": "code",
   "execution_count": 1,
   "id": "0cd99db0",
   "metadata": {},
   "outputs": [
    {
     "data": {
      "text/html": [
       "\n",
       "        <div>\n",
       "            <p><b>SparkContext</b></p>\n",
       "\n",
       "            <p><a href=\"http://192.168.64.6:4040\">Spark UI</a></p>\n",
       "\n",
       "            <dl>\n",
       "              <dt>Version</dt>\n",
       "                <dd><code>v3.2.3</code></dd>\n",
       "              <dt>Master</dt>\n",
       "                <dd><code>local[*]</code></dd>\n",
       "              <dt>AppName</dt>\n",
       "                <dd><code>PySparkShell</code></dd>\n",
       "            </dl>\n",
       "        </div>\n",
       "        "
      ],
      "text/plain": [
       "<SparkContext master=local[*] appName=PySparkShell>"
      ]
     },
     "execution_count": 1,
     "metadata": {},
     "output_type": "execute_result"
    }
   ],
   "source": [
    "sc"
   ]
  },
  {
   "cell_type": "code",
   "execution_count": 2,
   "id": "932dee20",
   "metadata": {},
   "outputs": [
    {
     "name": "stderr",
     "output_type": "stream",
     "text": [
      "WARNING:root:'PYARROW_IGNORE_TIMEZONE' environment variable was not set. It is required to set this environment variable to '1' in both driver and executor sides if you use pyarrow>=2.0.0. pandas-on-Spark will set it for you but it does not work if there is a Spark context already launched.\n"
     ]
    }
   ],
   "source": [
    "# Importing the required libraries\n",
    "from pyspark import pandas as ps\n",
    "from pyspark.sql import SparkSession\n",
    "import pandas as pd\n",
    "import numpy as np\n",
    "import seaborn as sns\n",
    "from keras.models import Sequential\n",
    "from keras.layers import Dense"
   ]
  },
  {
   "cell_type": "code",
   "execution_count": 3,
   "id": "bc6cec33",
   "metadata": {},
   "outputs": [
    {
     "data": {
      "text/plain": [
       "'local[*]'"
      ]
     },
     "execution_count": 3,
     "metadata": {},
     "output_type": "execute_result"
    }
   ],
   "source": [
    "# sc master - running locally\n",
    "sc.master"
   ]
  },
  {
   "cell_type": "code",
   "execution_count": 4,
   "id": "e538ff1e",
   "metadata": {},
   "outputs": [],
   "source": [
    "import warnings\n",
    "warnings.filterwarnings(\"ignore\")"
   ]
  },
  {
   "cell_type": "markdown",
   "id": "4be335fe",
   "metadata": {},
   "source": [
    "## 1. Load the dataset"
   ]
  },
  {
   "cell_type": "code",
   "execution_count": 5,
   "id": "2c1e3d3c",
   "metadata": {},
   "outputs": [],
   "source": [
    "# Loading a dataset into SparkData frame\n",
    "spark = SparkSession.builder.getOrCreate()\n",
    "sdf=spark.read.csv('/user1/hsa-incidents-2017-2021.csv', header=True, inferSchema=True)"
   ]
  },
  {
   "cell_type": "code",
   "execution_count": 6,
   "id": "51eba417",
   "metadata": {},
   "outputs": [
    {
     "name": "stdout",
     "output_type": "stream",
     "text": [
      "+----------+--------+--------------------+----------------+-------------------+----+-------+--------------------+\n",
      "|       Age|Gender  |         NACE Sector|   Incident Type|Employment Status  |Year| County|             Trigger|\n",
      "+----------+--------+--------------------+----------------+-------------------+----+-------+--------------------+\n",
      "|0-17 Years|    Male|    F - CONSTRUCTION|Non-fatal injury|           Employee|2017| Carlow|   Lifting, carrying|\n",
      "|0-17 Years|  Female|   C - MANUFACTURING|Non-fatal injury|           Employee|2017| Dublin|Other triggers no...|\n",
      "|0-17 Years|  Female|Q - HUMAN HEALTH ...|Non-fatal injury|           Employee|2017| Dublin|Fall on same leve...|\n",
      "|0-17 Years|    Male|   C - MANUFACTURING|Non-fatal injury|           Employee|2017| Offaly|    Pushing, pulling|\n",
      "|0-17 Years|    Male|I - ACCOMMODATION...|Non-fatal injury|           Employee|2017| Dublin|Loss of control o...|\n",
      "|0-17 Years|  Female|I - ACCOMMODATION...|Non-fatal injury|           Employee|2017|  Sligo|Loss of control o...|\n",
      "|0-17 Years|    Male|    F - CONSTRUCTION|Non-fatal injury|           Employee|2017| Dublin|    Fall from height|\n",
      "|0-17 Years|    Male|       P - EDUCATION|Non-fatal injury|           Employee|2018|  Meath|Loss of control o...|\n",
      "|0-17 Years|    Male|G - WHOLESALE AND...|Non-fatal injury|           Employee|2018|   Cork|Other triggers no...|\n",
      "|0-17 Years|  Female|I - ACCOMMODATION...|Non-fatal injury|           Employee|2018|Donegal|Other triggers no...|\n",
      "+----------+--------+--------------------+----------------+-------------------+----+-------+--------------------+\n",
      "only showing top 10 rows\n",
      "\n"
     ]
    }
   ],
   "source": [
    "sdf.show(10)"
   ]
  },
  {
   "cell_type": "code",
   "execution_count": 7,
   "id": "cacd6a84",
   "metadata": {},
   "outputs": [
    {
     "name": "stdout",
     "output_type": "stream",
     "text": [
      "root\n",
      " |-- Age: string (nullable = true)\n",
      " |-- Gender  : string (nullable = true)\n",
      " |-- NACE Sector: string (nullable = true)\n",
      " |-- Incident Type: string (nullable = true)\n",
      " |-- Employment Status  : string (nullable = true)\n",
      " |-- Year: integer (nullable = true)\n",
      " |-- County: string (nullable = true)\n",
      " |-- Trigger: string (nullable = true)\n",
      "\n"
     ]
    }
   ],
   "source": [
    "# The inferred schema can be visualized using the printSchema() method\n",
    "sdf.printSchema()"
   ]
  },
  {
   "cell_type": "markdown",
   "id": "6ddadc5f",
   "metadata": {},
   "source": [
    "The first view of spark Dataframe."
   ]
  },
  {
   "cell_type": "markdown",
   "id": "0cdd384e",
   "metadata": {},
   "source": [
    "## 2. Prepare and understand data for the modelling"
   ]
  },
  {
   "cell_type": "code",
   "execution_count": 8,
   "id": "e7d83b05",
   "metadata": {},
   "outputs": [
    {
     "data": {
      "text/plain": [
       "[('Age', 'string'),\n",
       " ('Gender  ', 'string'),\n",
       " ('NACE Sector', 'string'),\n",
       " ('Incident Type', 'string'),\n",
       " ('Employment Status  ', 'string'),\n",
       " ('Year', 'int'),\n",
       " ('County', 'string'),\n",
       " ('Trigger', 'string')]"
      ]
     },
     "execution_count": 8,
     "metadata": {},
     "output_type": "execute_result"
    }
   ],
   "source": [
    "# Checking datatypes\n",
    "sdf.dtypes"
   ]
  },
  {
   "cell_type": "code",
   "execution_count": 9,
   "id": "773f9f27",
   "metadata": {},
   "outputs": [
    {
     "name": "stdout",
     "output_type": "stream",
     "text": [
      "(45787, 8)\n"
     ]
    }
   ],
   "source": [
    "# Checking a shape of pyspark Dataframe\n",
    "print((sdf.count(), len(sdf.columns)))"
   ]
  },
  {
   "cell_type": "markdown",
   "id": "cdd7097c",
   "metadata": {},
   "source": [
    "### 2.1. Handle duplicates"
   ]
  },
  {
   "cell_type": "code",
   "execution_count": 10,
   "id": "5c1958d9",
   "metadata": {},
   "outputs": [
    {
     "name": "stdout",
     "output_type": "stream",
     "text": [
      "Count of rows: 45787\n",
      "Count of distinct rows: 26504\n"
     ]
    }
   ],
   "source": [
    "# Check for duplicates\n",
    "print('Count of rows: {0}'.format(sdf.count()))\n",
    "print('Count of distinct rows: {0}'.format(sdf.distinct().count()))"
   ]
  },
  {
   "cell_type": "code",
   "execution_count": 11,
   "id": "d5b8bbf2",
   "metadata": {},
   "outputs": [],
   "source": [
    "# Dropping these duplicated rows by using .dropDuplicates(...) method.\n",
    "sdf1=sdf.dropDuplicates()"
   ]
  },
  {
   "cell_type": "code",
   "execution_count": 12,
   "id": "1df01eff",
   "metadata": {
    "scrolled": true
   },
   "outputs": [
    {
     "name": "stdout",
     "output_type": "stream",
     "text": [
      "Count of rows: 26504\n",
      "Count of distinct rows: 26504\n"
     ]
    }
   ],
   "source": [
    "#Confirmation\n",
    "print('Count of rows: {0}'.format(sdf1.count()))\n",
    "print('Count of distinct rows: {0}'.format(sdf1.distinct().count()))"
   ]
  },
  {
   "cell_type": "markdown",
   "id": "2dc60275",
   "metadata": {},
   "source": [
    "### 2.2. Missing observations"
   ]
  },
  {
   "cell_type": "code",
   "execution_count": 13,
   "id": "46632ffb",
   "metadata": {},
   "outputs": [
    {
     "name": "stdout",
     "output_type": "stream",
     "text": [
      "+---+--------+-----------+-------------+-------------------+----+------+-------+\n",
      "|Age|Gender  |NACE Sector|Incident Type|Employment Status  |Year|County|Trigger|\n",
      "+---+--------+-----------+-------------+-------------------+----+------+-------+\n",
      "|  0|       0|          0|            0|                  0|   0|    15|      0|\n",
      "+---+--------+-----------+-------------+-------------------+----+------+-------+\n",
      "\n"
     ]
    }
   ],
   "source": [
    "# Checking a missing observations\n",
    "from pyspark.sql.functions import col,sum\n",
    "sdf.select(*(sum(col(c).isNull().cast(\"int\")).alias(c) for c in sdf.columns)).show()"
   ]
  },
  {
   "cell_type": "code",
   "execution_count": 14,
   "id": "6ad9d6fd",
   "metadata": {},
   "outputs": [],
   "source": [
    "# To drop any rows that have missing data.\n",
    "sdf2= sdf1.dropna()"
   ]
  },
  {
   "cell_type": "code",
   "execution_count": 15,
   "id": "2de4b5ad",
   "metadata": {},
   "outputs": [
    {
     "name": "stdout",
     "output_type": "stream",
     "text": [
      "+---+--------+-----------+-------------+-------------------+----+------+-------+\n",
      "|Age|Gender  |NACE Sector|Incident Type|Employment Status  |Year|County|Trigger|\n",
      "+---+--------+-----------+-------------+-------------------+----+------+-------+\n",
      "|  0|       0|          0|            0|                  0|   0|     0|      0|\n",
      "+---+--------+-----------+-------------+-------------------+----+------+-------+\n",
      "\n"
     ]
    }
   ],
   "source": [
    "# Checking a missing observations\n",
    "from pyspark.sql.functions import col,sum\n",
    "sdf2.select(*(sum(col(c).isNull().cast(\"int\")).alias(c) for c in sdf1.columns)).show()"
   ]
  },
  {
   "cell_type": "code",
   "execution_count": 16,
   "id": "39871c4d",
   "metadata": {},
   "outputs": [
    {
     "name": "stdout",
     "output_type": "stream",
     "text": [
      "(26489, 8)\n"
     ]
    }
   ],
   "source": [
    "# Confirmation of final data shape of dataset\n",
    "print((sdf2.count(), len(sdf2.columns)))"
   ]
  },
  {
   "cell_type": "markdown",
   "id": "84cf1771",
   "metadata": {},
   "source": [
    "## 2.3. Descriptive statistics"
   ]
  },
  {
   "cell_type": "code",
   "execution_count": 17,
   "id": "7494e49d",
   "metadata": {},
   "outputs": [
    {
     "name": "stdout",
     "output_type": "stream",
     "text": [
      "root\n",
      " |-- Age: string (nullable = true)\n",
      " |-- Gender  : string (nullable = true)\n",
      " |-- NACE Sector: string (nullable = true)\n",
      " |-- Incident Type: string (nullable = true)\n",
      " |-- Employment Status  : string (nullable = true)\n",
      " |-- Year: integer (nullable = true)\n",
      " |-- County: string (nullable = true)\n",
      " |-- Trigger: string (nullable = true)\n",
      "\n"
     ]
    }
   ],
   "source": [
    "sdf2.printSchema()"
   ]
  },
  {
   "cell_type": "markdown",
   "id": "34c1f6c6",
   "metadata": {},
   "source": [
    "The Dataframe was not suitable for a basis descriptive statistics because of indexes were all a string type. So, here I am replacing index of string to integer."
   ]
  },
  {
   "cell_type": "code",
   "execution_count": 18,
   "id": "08bff9d9",
   "metadata": {},
   "outputs": [],
   "source": [
    "# Replacing index string to integer for calculate the basic descriptive statistics\n",
    "sdf3= sdf2.na.replace(['0-17 Years', '18-24 years','25-34 years', '35-44 years', \n",
    "             '45-54 years','55-64 years', '65-99 years','Age unknown'], ['0','1','2','3','4','5','6','7'], 'Age') \n",
    "sdf4=sdf3.na.replace(['Non-fatal injury','Fatality','Non-work related','Dangerous Occurrence'],['0','1','0','1'], 'Incident Type') \n",
    "sdf5=sdf4.na.replace(['Employee','Family worker', 'Non-worker', 'Trainee', 'Employment status unknown','Self-employed'],['0','1','2','3','4','5'], 'Employment Status  ')\n",
    "sdf6=sdf5.na.replace(['F - CONSTRUCTION','C - MANUFACTURING','Q - HUMAN HEALTH AND SOCIAL WORK ACTIVITIES', 'I - ACCOMMODATION AND FOOD SERVICE ACTIVITIES', 'P - EDUCATION', 'G - WHOLESALE AND RETAIL TRADE;REPAIR OF MOTOR VEHICLES AND MOTORCYCLES', 'A - AGRICULTURE, FORESTRY AND FISHING','S - OTHER SERVICE ACTIVITIES','N - ADMINISTRATIVE AND SUPPORT SERVICE ACTIVITIES','H - TRANSPORTATION AND STORAGE',\n",
    "                     'O - PUBLIC ADMINISTRATION AND DEFENCE;COMPULSORY SOCIAL SECURITY', 'K - FINANCIAL AND INSURANCE ACTIVITIES', 'R - ARTS, ENTERTAINMENT AND RECREATION',  'J - INFORMATION AND COMMUNICATION', 'M - PROFESSIONAL, SCIENTIFIC AND TECHNICAL ACTIVITIES','E - WATER SUPPLY;SEWERAGE,WASTE MANAGEMENT AND REMEDIATION ACTIVITIES', 'B - MINING AND QUARRYING','L - REAL ESTATE ACTIVITIES', \n",
    "                     'D - ELECTRICITY,GAS,STEAM AND AIR CONDITIONING SUPPLY', 'U - ACTIVITIES OF EXTRA TERRITORIAL ORGANISATIONS AND BODIES'], ['0','1','2','3','4','5','6','7','8','9','10','11','12','13','14','15','16','17','18','19'], 'NACE Sector')\n",
    "sdf7=sdf6.na.replace(['Lifting, carrying','Other triggers not listed','Fall on same level (slip, stumble etc)','Pushing, pulling', 'Loss of control of machine','Loss of control of object being worked on','Fall from height', 'Loss of control of hand held tool',\n",
    "                     'Accident trigger unknown','Bending down','Loss of control of means of transport or handling equipment','Overflow, leakage, emission of liquid','Loss of control of animal','Attack by animal','Twisting, turning', 'Body movement (no physical stress)','Breakage of material at joints', 'Violence, aggression, threat by member of public','Fall, collapse of material - on same level','Other loss of control trigger',\n",
    "                     'Other body movement trigger','Uncoordinated or untimely movements', 'Fall, collapse of material - from above','Shock, fright','Person in inappropriate area',\n",
    "                     'Other fall-related accident trigger','Overflow, leakage, emission of gas','Other shock, fright, violence trigger','Overflow, leakage, emission of smoke/dust','Other body movement','Electrical problem - indirect contact','Overflow, leakage, emission of solid material','Other breakage/collapse related trigger','Explosion','Fire, flare up','Twisting leg or ankle','Violence, aggression, threat by co-worker',\n",
    "                     'Electrical problem - direct contact','Other overflow, leakage, emission trigger','Breakage causing splinters (e.g. glass, stone, metal)','Fall, collapse of material - from below','Kneeling on, sitting on, leaning against','Carried along by something','Walk on sharp object'],\n",
    "                     ['0','1','2','3','4','5','6','7','8','9','10','11','12','13','14','15','16','17','18','19','20','21','22','23','24','25','26','27','28','29','30','31','32','33','34','35','36','37','38','39','40','41','42','43'], 'Trigger')\n",
    "                       \n",
    "\n",
    "newsdf=sdf7.na.replace(['Male','Female','Gender unknown'], ['0','1', '2'], 'Gender  ')\n"
   ]
  },
  {
   "cell_type": "code",
   "execution_count": 19,
   "id": "85456d4d",
   "metadata": {},
   "outputs": [
    {
     "name": "stdout",
     "output_type": "stream",
     "text": [
      "+---+--------+-----------+-------------+-------------------+----+---------+-------+\n",
      "|Age|Gender  |NACE Sector|Incident Type|Employment Status  |Year|   County|Trigger|\n",
      "+---+--------+-----------+-------------+-------------------+----+---------+-------+\n",
      "|  0|       0|          9|            0|                  2|2018|   Dublin|      3|\n",
      "|  0|       0|          4|            0|                  2|2018| Monaghan|      2|\n",
      "|  1|       0|          9|            0|                  0|2017|Westmeath|      3|\n",
      "|  1|       1|          5|            0|                  0|2017|  Kildare|      2|\n",
      "|  1|       1|          2|            0|                  0|2018| Limerick|     23|\n",
      "|  1|       1|          5|            0|                  0|2018| Kilkenny|      5|\n",
      "|  1|       1|          3|            0|                  0|2018|   Offaly|      3|\n",
      "|  1|       0|          1|            0|                  0|2019| Longford|      0|\n",
      "|  1|       0|         10|            0|                  0|2019|   Dublin|     23|\n",
      "|  1|       0|         10|            0|                  0|2019| Kilkenny|      2|\n",
      "+---+--------+-----------+-------------+-------------------+----+---------+-------+\n",
      "only showing top 10 rows\n",
      "\n"
     ]
    }
   ],
   "source": [
    "newsdf.show(10)"
   ]
  },
  {
   "cell_type": "markdown",
   "id": "965cfdd8",
   "metadata": {},
   "source": [
    "### Data Dictionary\n",
    "Age: ['0-17 Years'=0,\n",
    "  '18-24 years'=1,\n",
    "  '25-34 years'=2,\n",
    "  '35-44 years'=3,\n",
    "  '45-54 years'=4,\n",
    "  '55-64 years'=5,\n",
    "  '65-99 years'=6,\n",
    "  'Age unknown'=7]\n",
    "\n",
    "Gender: ['Male'=0, 'Female'=1, 'Gender unknown'=2]\n",
    "\n",
    "Incident Type': ['Non-fatal injury'=0,\n",
    "  'Fatality'=1,\n",
    "  'Non-work related'=2,\n",
    "  'Dangerous Occurrence'=3],\n",
    "  \n",
    "Employment Status  ': ['Employee'=0,\n",
    "  'Family worker'=1,\n",
    "  'Non-worker'=2,\n",
    "  'Trainee'=3,\n",
    "  'Employment status unknown'=4,\n",
    "  'Self-employed'=5] \n",
    "\n",
    "NACE Sector': ['F - CONSTRUCTION'=0,\n",
    "  'C - MANUFACTURING'=1,\n",
    "  'Q - HUMAN HEALTH AND SOCIAL WORK ACTIVITIES=2,\n",
    "  'I - ACCOMMODATION AND FOOD SERVICE ACTIVITIES'=3,\n",
    "  'P - EDUCATION'=4,\n",
    "  'G - WHOLESALE AND RETAIL TRADE;REPAIR OF MOTOR VEHICLES AND MOTORCYCLES'=5,\n",
    "  'A - AGRICULTURE, FORESTRY AND FISHING'=6,\n",
    "  'S - OTHER SERVICE ACTIVITIES'=7,\n",
    "  'N - ADMINISTRATIVE AND SUPPORT SERVICE ACTIVITIES'=8,\n",
    "  'H - TRANSPORTATION AND STORAGE'=9,\n",
    "  'O - PUBLIC ADMINISTRATION AND DEFENCE;COMPULSORY SOCIAL SECURITY'=10,\n",
    "  'K - FINANCIAL AND INSURANCE ACTIVITIES'=11,\n",
    "  'R - ARTS, ENTERTAINMENT AND RECREATION'=12,\n",
    "  'J - INFORMATION AND COMMUNICATION'=13,\n",
    "  'M - PROFESSIONAL, SCIENTIFIC AND TECHNICAL ACTIVITIES'=14,\n",
    "  'E - WATER SUPPLY;SEWERAGE,WASTE MANAGEMENT AND REMEDIATION ACTIVITIES'=15,\n",
    "  'B - MINING AND QUARRYING'=16,\n",
    "  'L - REAL ESTATE ACTIVITIES'=17,\n",
    "  'D - ELECTRICITY,GAS,STEAM AND AIR CONDITIONING SUPPLY'=18,\n",
    "  'U - ACTIVITIES OF EXTRA TERRITORIAL ORGANISATIONS AND BODIES=19'\n",
    "\n",
    "'Trigger':'Lifting, carrying'=0,'Other triggers not listed'=1,'Fall on same level (slip, stumble etc)':2,'Pushing, pulling'=3, 'Loss of control of machine'=4,'Loss of control of object being worked on'=5,'Fall from height'=6, 'Loss of control of hand held tool'=7, 'Accident trigger unknown'=8,'Bending down'=9,'Loss of control of means of transport or handling equipment'=10,'Overflow, leakage, emission of liquid'=11,'Loss of control of animal'=12,'Attack by animal'=13,'Twisting, turning'=14, 'Body movement (no physical stress)'=15,'Breakage of material at joints'=16, 'Violence, aggression, threat by member of public'=17,'Fall, collapse of material - on same level'=18,'Other loss of control trigger'=19,'Other body movement trigger'=20,'Uncoordinated or untimely movements'=21, 'Fall, collapse of material - from above'=22,'Shock, fright'=23,'Person in inappropriate area'=24,'Other fall-related accident trigger'=25,'Overflow, leakage, emission of gas'=26,'Other shock, fright, violence trigger'=27,'Overflow, leakage, emission of smoke/dust'=28,'Other body movement'=29,'Electrical problem - indirect contact'=30,'Overflow, leakage, emission of solid material'=31,'Other breakage/collapse related trigger'=32,'Explosion'=33,'Fire, flare up'=34,'Twisting leg or ankle'=35,'Violence, aggression, threat by co-worker'=36,\n",
    "           'Electrical problem - direct contact'=37,'Other overflow, leakage, emission trigger'=38,'Breakage causing splinters (e.g. glass, stone, metal)'=39,'Fall, collapse of material - from below'=40,'Kneeling on, sitting on, leaning against'=41,'Carried along by something'=42,'Walk on sharp object'=43"
   ]
  },
  {
   "cell_type": "code",
   "execution_count": 20,
   "id": "7de7db19",
   "metadata": {},
   "outputs": [
    {
     "name": "stdout",
     "output_type": "stream",
     "text": [
      "root\n",
      " |-- Age: string (nullable = true)\n",
      " |-- Gender  : string (nullable = true)\n",
      " |-- NACE Sector: string (nullable = true)\n",
      " |-- Incident Type: string (nullable = true)\n",
      " |-- Employment Status  : string (nullable = true)\n",
      " |-- Year: integer (nullable = true)\n",
      " |-- County: string (nullable = true)\n",
      " |-- Trigger: string (nullable = true)\n",
      "\n"
     ]
    }
   ],
   "source": [
    "newsdf.printSchema()"
   ]
  },
  {
   "cell_type": "code",
   "execution_count": 21,
   "id": "40e85fd8",
   "metadata": {},
   "outputs": [],
   "source": [
    "# Converting String to Integer type\n",
    "n1=newsdf.withColumn(\"Age\",col(\"Age\").cast('int'))\n",
    "n2=n1.withColumn(\"Gender  \",col(\"Gender  \").cast('int'))\n",
    "n3=n2.withColumn(\"NACE Sector\",col(\"NACE Sector\").cast('int'))\n",
    "n4=n3.withColumn('Incident Type',col('Incident Type').cast('int'))\n",
    "n5=n4.withColumn(\"Employment Status  \",col('Employment Status  ').cast('int'))\n",
    "n6=n5.withColumn(\"Trigger\",col('Trigger').cast('int'))"
   ]
  },
  {
   "cell_type": "code",
   "execution_count": 22,
   "id": "5b420ece",
   "metadata": {},
   "outputs": [
    {
     "name": "stdout",
     "output_type": "stream",
     "text": [
      "root\n",
      " |-- Age: integer (nullable = true)\n",
      " |-- Gender  : integer (nullable = true)\n",
      " |-- NACE Sector: integer (nullable = true)\n",
      " |-- Incident Type: integer (nullable = true)\n",
      " |-- Employment Status  : integer (nullable = true)\n",
      " |-- Year: integer (nullable = true)\n",
      " |-- County: string (nullable = true)\n",
      " |-- Trigger: integer (nullable = true)\n",
      "\n"
     ]
    }
   ],
   "source": [
    "# Final view of dataframe\n",
    "n6.printSchema()"
   ]
  },
  {
   "cell_type": "code",
   "execution_count": 23,
   "id": "5fbf8e38",
   "metadata": {},
   "outputs": [
    {
     "name": "stdout",
     "output_type": "stream",
     "text": [
      "+--------+-----+\n",
      "|Gender  |count|\n",
      "+--------+-----+\n",
      "|       1| 8886|\n",
      "|       2| 1223|\n",
      "|       0|16380|\n",
      "+--------+-----+\n",
      "\n",
      "+---+-----+\n",
      "|Age|count|\n",
      "+---+-----+\n",
      "|  1| 2979|\n",
      "|  6|  654|\n",
      "|  3| 6353|\n",
      "|  5| 3601|\n",
      "|  4| 5567|\n",
      "|  7| 1425|\n",
      "|  2| 5533|\n",
      "|  0|  377|\n",
      "+---+-----+\n",
      "\n",
      "+---------+-----+\n",
      "|   County|count|\n",
      "+---------+-----+\n",
      "|    Clare|  658|\n",
      "|  Wexford|  903|\n",
      "|  Leitrim|  169|\n",
      "|Roscommon|  325|\n",
      "|   Dublin| 5858|\n",
      "| Limerick| 1381|\n",
      "|  Donegal|  672|\n",
      "|   Galway| 1255|\n",
      "|   Offaly|  630|\n",
      "|     Cork| 2792|\n",
      "|  Kildare| 1558|\n",
      "|Tipperary| 1047|\n",
      "| Monaghan|  503|\n",
      "|  Wicklow|  750|\n",
      "|     Mayo|  801|\n",
      "|    Meath| 1050|\n",
      "|   Carlow|  366|\n",
      "|Westmeath|  744|\n",
      "|    Louth|  831|\n",
      "|    Sligo|  423|\n",
      "+---------+-----+\n",
      "only showing top 20 rows\n",
      "\n",
      "+----+-----+\n",
      "|Year|count|\n",
      "+----+-----+\n",
      "|2018| 5617|\n",
      "|2019| 5545|\n",
      "|2020| 4715|\n",
      "|2017| 5571|\n",
      "|2021| 5041|\n",
      "+----+-----+\n",
      "\n",
      "+-------------+-----+\n",
      "|Incident Type|count|\n",
      "+-------------+-----+\n",
      "|            1| 1217|\n",
      "|            0|25272|\n",
      "+-------------+-----+\n",
      "\n"
     ]
    }
   ],
   "source": [
    "# For categorical columns, checking frequencies of values using .groupby(...) method.\n",
    "n6.groupby('Gender  ').count().show()\n",
    "n6.groupby('Age').count().show()\n",
    "n6.groupby('County').count().show()\n",
    "n6.groupby('Year').count().show()\n",
    "n6.groupby('Incident Type').count().show()"
   ]
  },
  {
   "cell_type": "code",
   "execution_count": 24,
   "id": "975cf039",
   "metadata": {},
   "outputs": [],
   "source": [
    "#define function to swap columns\n",
    "def swap_columns(n6, col1, col2):\n",
    "    col_list = list(n6.columns)\n",
    "    x, y = col_list.index(col1), col_list.index(col2)\n",
    "    col_list[y], col_list[x] = col_list[x], col_list[y]\n",
    "    n6 = n6[col_list]\n",
    "    return n6"
   ]
  },
  {
   "cell_type": "code",
   "execution_count": 25,
   "id": "b3470e98",
   "metadata": {},
   "outputs": [],
   "source": [
    "#swap Incident type and Trigger columns\n",
    "n6 = swap_columns(n6, 'Incident Type', 'Trigger')"
   ]
  },
  {
   "cell_type": "code",
   "execution_count": 26,
   "id": "6c700ea4",
   "metadata": {},
   "outputs": [],
   "source": [
    "#Drop the irrevelant columns\n",
    "psdf= n6.drop(\"County\") "
   ]
  },
  {
   "cell_type": "code",
   "execution_count": 27,
   "id": "16194216",
   "metadata": {},
   "outputs": [
    {
     "name": "stdout",
     "output_type": "stream",
     "text": [
      "+---+--------+-----------+-------+-------------------+----+-------------+\n",
      "|Age|Gender  |NACE Sector|Trigger|Employment Status  |Year|Incident Type|\n",
      "+---+--------+-----------+-------+-------------------+----+-------------+\n",
      "|  0|       0|          9|      3|                  2|2018|            0|\n",
      "|  0|       0|          4|      2|                  2|2018|            0|\n",
      "|  1|       0|          9|      3|                  0|2017|            0|\n",
      "|  1|       1|          5|      2|                  0|2017|            0|\n",
      "|  1|       1|          2|     23|                  0|2018|            0|\n",
      "+---+--------+-----------+-------+-------------------+----+-------------+\n",
      "only showing top 5 rows\n",
      "\n"
     ]
    }
   ],
   "source": [
    "# Final view of dataframe\n",
    "psdf.show(5)"
   ]
  },
  {
   "cell_type": "markdown",
   "id": "b5f058c5",
   "metadata": {},
   "source": [
    "## 4. Artificial Neural network "
   ]
  },
  {
   "cell_type": "code",
   "execution_count": 28,
   "id": "164d1366",
   "metadata": {},
   "outputs": [],
   "source": [
    "#Converting to numpay (array)\n",
    "npsdf=psdf.select('Age', 'Gender  ', 'NACE Sector', 'Trigger', 'Employment Status  ', 'Year', 'Incident Type').toPandas().to_numpy()"
   ]
  },
  {
   "cell_type": "code",
   "execution_count": 29,
   "id": "f6eb19c6",
   "metadata": {},
   "outputs": [
    {
     "data": {
      "text/plain": [
       "((23840, 6), (2649, 6), (23840,), (2649,))"
      ]
     },
     "execution_count": 29,
     "metadata": {},
     "output_type": "execute_result"
    }
   ],
   "source": [
    "from sklearn.model_selection import train_test_split\n",
    "#split into input (X) and output (y) variables\n",
    "X=npsdf[:, 0:6]\n",
    "y=npsdf[:,6]\n",
    "# Split into Training and Testing parts\n",
    "X_train, X_test, y_train, y_test=train_test_split(X,y,test_size=0.10)\n",
    "\n",
    "#display X, y\n",
    "X_train.shape, X_test.shape, y_train.shape, y_test.shape"
   ]
  },
  {
   "cell_type": "code",
   "execution_count": 30,
   "id": "973cdf4d",
   "metadata": {},
   "outputs": [
    {
     "name": "stdout",
     "output_type": "stream",
     "text": [
      "Model: \"sequential\"\n",
      "_________________________________________________________________\n",
      " Layer (type)                Output Shape              Param #   \n",
      "=================================================================\n",
      " dense (Dense)               (None, 12)                84        \n",
      "                                                                 \n",
      " dense_1 (Dense)             (None, 8)                 104       \n",
      "                                                                 \n",
      " dense_2 (Dense)             (None, 1)                 9         \n",
      "                                                                 \n",
      "=================================================================\n",
      "Total params: 197\n",
      "Trainable params: 197\n",
      "Non-trainable params: 0\n",
      "_________________________________________________________________\n"
     ]
    }
   ],
   "source": [
    "#define the keras model\n",
    "model= Sequential()\n",
    "model.add(Dense(12, input_dim=6, activation='relu'))\n",
    "model.add(Dense(8, activation='relu'))\n",
    "model.add(Dense(1, activation='sigmoid'))\n",
    "model.summary()"
   ]
  },
  {
   "cell_type": "code",
   "execution_count": 31,
   "id": "a30bab0f",
   "metadata": {},
   "outputs": [],
   "source": [
    "# compile the keras model\n",
    "model.compile(loss='binary_crossentropy', optimizer='adam', metrics=['accuracy'])"
   ]
  },
  {
   "cell_type": "code",
   "execution_count": 32,
   "id": "37e663ed",
   "metadata": {},
   "outputs": [
    {
     "name": "stdout",
     "output_type": "stream",
     "text": [
      "Epoch 1/100\n",
      "745/745 [==============================] - 1s 907us/step - loss: 1.8434 - accuracy: 0.9526\n",
      "Epoch 2/100\n",
      "745/745 [==============================] - 1s 1ms/step - loss: 0.1303 - accuracy: 0.9587\n",
      "Epoch 3/100\n",
      "745/745 [==============================] - 1s 1ms/step - loss: 0.1150 - accuracy: 0.9649\n",
      "Epoch 4/100\n",
      "745/745 [==============================] - 1s 1ms/step - loss: 0.0972 - accuracy: 0.9685\n",
      "Epoch 5/100\n",
      "745/745 [==============================] - 1s 813us/step - loss: 0.0878 - accuracy: 0.9715\n",
      "Epoch 6/100\n",
      "745/745 [==============================] - 1s 789us/step - loss: 0.0789 - accuracy: 0.9762\n",
      "Epoch 7/100\n",
      "745/745 [==============================] - 1s 784us/step - loss: 0.0828 - accuracy: 0.9764\n",
      "Epoch 8/100\n",
      "745/745 [==============================] - 1s 758us/step - loss: 0.0752 - accuracy: 0.9775\n",
      "Epoch 9/100\n",
      "745/745 [==============================] - 1s 939us/step - loss: 0.0800 - accuracy: 0.9780\n",
      "Epoch 10/100\n",
      "745/745 [==============================] - 1s 954us/step - loss: 0.0799 - accuracy: 0.9775\n",
      "Epoch 11/100\n",
      "745/745 [==============================] - 1s 869us/step - loss: 0.0731 - accuracy: 0.9793\n",
      "Epoch 12/100\n",
      "745/745 [==============================] - 1s 820us/step - loss: 0.0675 - accuracy: 0.9828\n",
      "Epoch 13/100\n",
      "745/745 [==============================] - 1s 867us/step - loss: 0.0808 - accuracy: 0.9783\n",
      "Epoch 14/100\n",
      "745/745 [==============================] - 1s 741us/step - loss: 0.0754 - accuracy: 0.9802\n",
      "Epoch 15/100\n",
      "745/745 [==============================] - 1s 757us/step - loss: 0.0757 - accuracy: 0.9801\n",
      "Epoch 16/100\n",
      "745/745 [==============================] - 1s 721us/step - loss: 0.0742 - accuracy: 0.9802\n",
      "Epoch 17/100\n",
      "745/745 [==============================] - 1s 808us/step - loss: 0.0786 - accuracy: 0.9803\n",
      "Epoch 18/100\n",
      "745/745 [==============================] - 1s 771us/step - loss: 0.0681 - accuracy: 0.9830\n",
      "Epoch 19/100\n",
      "745/745 [==============================] - 1s 866us/step - loss: 0.0734 - accuracy: 0.9817\n",
      "Epoch 20/100\n",
      "745/745 [==============================] - 1s 1ms/step - loss: 0.0777 - accuracy: 0.9796\n",
      "Epoch 21/100\n",
      "745/745 [==============================] - 1s 817us/step - loss: 0.0678 - accuracy: 0.9834\n",
      "Epoch 22/100\n",
      "745/745 [==============================] - 1s 823us/step - loss: 0.0731 - accuracy: 0.9817\n",
      "Epoch 23/100\n",
      "745/745 [==============================] - 1s 904us/step - loss: 0.0725 - accuracy: 0.9822\n",
      "Epoch 24/100\n",
      "745/745 [==============================] - 1s 699us/step - loss: 0.0731 - accuracy: 0.9820\n",
      "Epoch 25/100\n",
      "745/745 [==============================] - 1s 1ms/step - loss: 0.0712 - accuracy: 0.9827\n",
      "Epoch 26/100\n",
      "745/745 [==============================] - 1s 911us/step - loss: 0.0759 - accuracy: 0.9808\n",
      "Epoch 27/100\n",
      "745/745 [==============================] - 1s 918us/step - loss: 0.0679 - accuracy: 0.9837\n",
      "Epoch 28/100\n",
      "745/745 [==============================] - 1s 814us/step - loss: 0.0704 - accuracy: 0.9829\n",
      "Epoch 29/100\n",
      "745/745 [==============================] - 1s 1ms/step - loss: 0.0722 - accuracy: 0.9822\n",
      "Epoch 30/100\n",
      "745/745 [==============================] - 1s 885us/step - loss: 0.0748 - accuracy: 0.9808\n",
      "Epoch 31/100\n",
      "745/745 [==============================] - 1s 962us/step - loss: 0.0674 - accuracy: 0.9841\n",
      "Epoch 32/100\n",
      "745/745 [==============================] - 1s 857us/step - loss: 0.0646 - accuracy: 0.9851\n",
      "Epoch 33/100\n",
      "745/745 [==============================] - 1s 888us/step - loss: 0.0692 - accuracy: 0.9831\n",
      "Epoch 34/100\n",
      "745/745 [==============================] - 1s 892us/step - loss: 0.0701 - accuracy: 0.9819\n",
      "Epoch 35/100\n",
      "745/745 [==============================] - 1s 806us/step - loss: 0.0664 - accuracy: 0.9839\n",
      "Epoch 36/100\n",
      "745/745 [==============================] - 1s 859us/step - loss: 0.0715 - accuracy: 0.9826\n",
      "Epoch 37/100\n",
      "745/745 [==============================] - 1s 818us/step - loss: 0.0664 - accuracy: 0.9835\n",
      "Epoch 38/100\n",
      "745/745 [==============================] - 1s 808us/step - loss: 0.0669 - accuracy: 0.9841\n",
      "Epoch 39/100\n",
      "745/745 [==============================] - 1s 835us/step - loss: 0.0677 - accuracy: 0.9834\n",
      "Epoch 40/100\n",
      "745/745 [==============================] - 1s 739us/step - loss: 0.0684 - accuracy: 0.9833\n",
      "Epoch 41/100\n",
      "745/745 [==============================] - 1s 935us/step - loss: 0.0687 - accuracy: 0.9830\n",
      "Epoch 42/100\n",
      "745/745 [==============================] - 1s 1ms/step - loss: 0.0637 - accuracy: 0.9843\n",
      "Epoch 43/100\n",
      "745/745 [==============================] - 1s 1ms/step - loss: 0.0677 - accuracy: 0.9832\n",
      "Epoch 44/100\n",
      "745/745 [==============================] - 1s 887us/step - loss: 0.0669 - accuracy: 0.9832\n",
      "Epoch 45/100\n",
      "745/745 [==============================] - 1s 911us/step - loss: 0.0635 - accuracy: 0.9848\n",
      "Epoch 46/100\n",
      "745/745 [==============================] - 1s 849us/step - loss: 0.0625 - accuracy: 0.9854\n",
      "Epoch 47/100\n",
      "745/745 [==============================] - 2s 2ms/step - loss: 0.0645 - accuracy: 0.9844\n",
      "Epoch 48/100\n",
      "745/745 [==============================] - 1s 1ms/step - loss: 0.0632 - accuracy: 0.9843\n",
      "Epoch 49/100\n",
      "745/745 [==============================] - 1s 2ms/step - loss: 0.0641 - accuracy: 0.9845\n",
      "Epoch 50/100\n",
      "745/745 [==============================] - 1s 968us/step - loss: 0.0637 - accuracy: 0.9844\n",
      "Epoch 51/100\n",
      "745/745 [==============================] - 1s 1ms/step - loss: 0.0623 - accuracy: 0.9856\n",
      "Epoch 52/100\n",
      "745/745 [==============================] - 1s 1ms/step - loss: 0.0625 - accuracy: 0.9852\n",
      "Epoch 53/100\n",
      "745/745 [==============================] - 2s 3ms/step - loss: 0.0633 - accuracy: 0.9846\n",
      "Epoch 54/100\n",
      "745/745 [==============================] - 1s 2ms/step - loss: 0.0615 - accuracy: 0.9859\n",
      "Epoch 55/100\n",
      "745/745 [==============================] - 1s 789us/step - loss: 0.0613 - accuracy: 0.9859\n",
      "Epoch 56/100\n",
      "745/745 [==============================] - 1s 847us/step - loss: 0.0614 - accuracy: 0.9854\n",
      "Epoch 57/100\n",
      "745/745 [==============================] - 1s 737us/step - loss: 0.0591 - accuracy: 0.9868\n",
      "Epoch 58/100\n",
      "745/745 [==============================] - 1s 803us/step - loss: 0.0629 - accuracy: 0.9843\n",
      "Epoch 59/100\n",
      "745/745 [==============================] - 1s 1ms/step - loss: 0.0617 - accuracy: 0.9852\n",
      "Epoch 60/100\n",
      "745/745 [==============================] - 1s 984us/step - loss: 0.0638 - accuracy: 0.9856\n",
      "Epoch 61/100\n",
      "745/745 [==============================] - 1s 941us/step - loss: 0.0604 - accuracy: 0.9865\n",
      "Epoch 62/100\n",
      "745/745 [==============================] - 1s 1ms/step - loss: 0.0619 - accuracy: 0.9849\n",
      "Epoch 63/100\n",
      "745/745 [==============================] - 1s 740us/step - loss: 0.0632 - accuracy: 0.9848\n",
      "Epoch 64/100\n",
      "745/745 [==============================] - 1s 710us/step - loss: 0.0613 - accuracy: 0.9859\n",
      "Epoch 65/100\n",
      "745/745 [==============================] - 1s 1ms/step - loss: 0.0619 - accuracy: 0.9859\n",
      "Epoch 66/100\n",
      "745/745 [==============================] - 1s 1ms/step - loss: 0.0603 - accuracy: 0.9868\n",
      "Epoch 67/100\n",
      "745/745 [==============================] - 2s 2ms/step - loss: 0.0616 - accuracy: 0.9859\n",
      "Epoch 68/100\n",
      "745/745 [==============================] - 1s 1ms/step - loss: 0.0591 - accuracy: 0.9871\n",
      "Epoch 69/100\n",
      "745/745 [==============================] - 2s 2ms/step - loss: 0.0625 - accuracy: 0.9858\n",
      "Epoch 70/100\n",
      "745/745 [==============================] - 2s 2ms/step - loss: 0.0600 - accuracy: 0.9865\n",
      "Epoch 71/100\n",
      "745/745 [==============================] - 1s 1ms/step - loss: 0.0581 - accuracy: 0.9878\n",
      "Epoch 72/100\n",
      "745/745 [==============================] - 1s 1ms/step - loss: 0.0597 - accuracy: 0.9862\n",
      "Epoch 73/100\n",
      "745/745 [==============================] - 1s 982us/step - loss: 0.0581 - accuracy: 0.9868\n",
      "Epoch 74/100\n",
      "745/745 [==============================] - 1s 873us/step - loss: 0.0584 - accuracy: 0.9880\n",
      "Epoch 75/100\n",
      "745/745 [==============================] - 1s 929us/step - loss: 0.0599 - accuracy: 0.9863\n",
      "Epoch 76/100\n",
      "745/745 [==============================] - 2s 3ms/step - loss: 0.0580 - accuracy: 0.9880\n",
      "Epoch 77/100\n",
      "745/745 [==============================] - 2s 2ms/step - loss: 0.0588 - accuracy: 0.9865\n",
      "Epoch 78/100\n",
      "745/745 [==============================] - 1s 1ms/step - loss: 0.0609 - accuracy: 0.9859\n",
      "Epoch 79/100\n",
      "745/745 [==============================] - 1s 1ms/step - loss: 0.0588 - accuracy: 0.9872\n",
      "Epoch 80/100\n",
      "745/745 [==============================] - 1s 1ms/step - loss: 0.0588 - accuracy: 0.9870\n",
      "Epoch 81/100\n",
      "745/745 [==============================] - 1s 1ms/step - loss: 0.0580 - accuracy: 0.9870\n",
      "Epoch 82/100\n",
      "745/745 [==============================] - 1s 969us/step - loss: 0.0569 - accuracy: 0.9877\n",
      "Epoch 83/100\n",
      "745/745 [==============================] - 1s 1ms/step - loss: 0.0563 - accuracy: 0.9876\n",
      "Epoch 84/100\n",
      "745/745 [==============================] - 1s 1ms/step - loss: 0.0582 - accuracy: 0.9871\n",
      "Epoch 85/100\n",
      "745/745 [==============================] - 1s 1ms/step - loss: 0.0583 - accuracy: 0.9863\n",
      "Epoch 86/100\n",
      "745/745 [==============================] - 1s 895us/step - loss: 0.0553 - accuracy: 0.9879\n",
      "Epoch 87/100\n",
      "745/745 [==============================] - 1s 927us/step - loss: 0.0540 - accuracy: 0.9880\n",
      "Epoch 88/100\n",
      "745/745 [==============================] - 1s 1ms/step - loss: 0.0537 - accuracy: 0.9883\n",
      "Epoch 89/100\n",
      "745/745 [==============================] - 1s 989us/step - loss: 0.0516 - accuracy: 0.9891\n",
      "Epoch 90/100\n",
      "745/745 [==============================] - 1s 857us/step - loss: 0.0521 - accuracy: 0.9888\n",
      "Epoch 91/100\n",
      "745/745 [==============================] - 1s 853us/step - loss: 0.0519 - accuracy: 0.9885\n",
      "Epoch 92/100\n",
      "745/745 [==============================] - 1s 1ms/step - loss: 0.0534 - accuracy: 0.9882\n",
      "Epoch 93/100\n",
      "745/745 [==============================] - 1s 1ms/step - loss: 0.0507 - accuracy: 0.9893\n",
      "Epoch 94/100\n",
      "745/745 [==============================] - 1s 1ms/step - loss: 0.0502 - accuracy: 0.9886\n",
      "Epoch 95/100\n",
      "745/745 [==============================] - 1s 1ms/step - loss: 0.0509 - accuracy: 0.9891\n",
      "Epoch 96/100\n",
      "745/745 [==============================] - 1s 913us/step - loss: 0.0506 - accuracy: 0.9888\n",
      "Epoch 97/100\n",
      "745/745 [==============================] - 1s 791us/step - loss: 0.0512 - accuracy: 0.9881\n",
      "Epoch 98/100\n",
      "745/745 [==============================] - 1s 1ms/step - loss: 0.0489 - accuracy: 0.9896\n",
      "Epoch 99/100\n",
      "745/745 [==============================] - 1s 835us/step - loss: 0.0496 - accuracy: 0.9893\n",
      "Epoch 100/100\n",
      "745/745 [==============================] - 1s 894us/step - loss: 0.0489 - accuracy: 0.9891\n"
     ]
    },
    {
     "data": {
      "text/plain": [
       "<keras.callbacks.History at 0xffff283cb9a0>"
      ]
     },
     "execution_count": 32,
     "metadata": {},
     "output_type": "execute_result"
    }
   ],
   "source": [
    "# fit the keras model on the dataset\n",
    "model.fit(X_train, y_train, epochs=100, batch_size=32)"
   ]
  },
  {
   "cell_type": "code",
   "execution_count": 33,
   "id": "64a7ed2f",
   "metadata": {},
   "outputs": [],
   "source": [
    "# Save the model\n",
    "model.save(\"incident.h5\")"
   ]
  },
  {
   "cell_type": "code",
   "execution_count": 34,
   "id": "e955ef38",
   "metadata": {},
   "outputs": [],
   "source": [
    "# load the model\n",
    "from keras.models import load_model \n",
    "loaded_model=load_model(\"incident.h5\")"
   ]
  },
  {
   "cell_type": "code",
   "execution_count": 35,
   "id": "42056964",
   "metadata": {},
   "outputs": [
    {
     "name": "stdout",
     "output_type": "stream",
     "text": [
      "83/83 [==============================] - 0s 3ms/step - loss: 0.0474 - accuracy: 0.9883\n",
      "Accuracy: 98.83\n"
     ]
    }
   ],
   "source": [
    "# evaluate the keras model\n",
    "_, accuracy=model.evaluate(X_test,y_test)\n",
    "print('Accuracy: %.2f' % (accuracy*100))"
   ]
  },
  {
   "cell_type": "code",
   "execution_count": 36,
   "id": "7452bab9",
   "metadata": {},
   "outputs": [
    {
     "name": "stdout",
     "output_type": "stream",
     "text": [
      "83/83 [==============================] - 0s 850us/step\n"
     ]
    }
   ],
   "source": [
    "# make probability predictions with the model\n",
    "predictions= model.predict(X_test)"
   ]
  },
  {
   "cell_type": "code",
   "execution_count": 37,
   "id": "0ad5579c",
   "metadata": {},
   "outputs": [],
   "source": [
    "#round predictions\n",
    "rounded= [round(x[0]) for x in predictions]"
   ]
  },
  {
   "cell_type": "code",
   "execution_count": 38,
   "id": "dded5a85",
   "metadata": {},
   "outputs": [
    {
     "name": "stdout",
     "output_type": "stream",
     "text": [
      "[0, 0, 9, 3, 2, 2018]=>0 (expected: 0)\n",
      "[0, 0, 4, 2, 2, 2018]=>0 (expected: 0)\n",
      "[1, 0, 9, 3, 0, 2017]=>0 (expected: 0)\n",
      "[1, 1, 5, 2, 0, 2017]=>0 (expected: 0)\n",
      "[1, 1, 2, 23, 0, 2018]=>0 (expected: 0)\n",
      "[1, 1, 5, 5, 0, 2018]=>0 (expected: 0)\n",
      "[1, 1, 3, 3, 0, 2018]=>0 (expected: 0)\n",
      "[1, 0, 1, 0, 0, 2019]=>0 (expected: 0)\n",
      "[1, 0, 10, 23, 0, 2019]=>0 (expected: 0)\n",
      "[1, 0, 10, 2, 0, 2019]=>0 (expected: 0)\n"
     ]
    }
   ],
   "source": [
    "for i in range(10):\n",
    "    print('%s=>%d (expected: %d)' % (X[i].tolist(), predictions[i], y[i]))"
   ]
  },
  {
   "cell_type": "code",
   "execution_count": 39,
   "id": "8901c247",
   "metadata": {},
   "outputs": [
    {
     "data": {
      "text/plain": [
       "(2649,)"
      ]
     },
     "execution_count": 39,
     "metadata": {},
     "output_type": "execute_result"
    }
   ],
   "source": [
    "df=psdf.select('Age', 'Gender  ', 'NACE Sector', 'Trigger', 'Employment Status  ', 'Year', 'Incident Type').toPandas()\n",
    "s=df['Age']\n",
    "s=s[:2649]\n",
    "s.shape"
   ]
  },
  {
   "cell_type": "code",
   "execution_count": 40,
   "id": "852ec377",
   "metadata": {},
   "outputs": [
    {
     "data": {
      "image/png": "[encoded data removed]",
      "text/plain": [
       "<Figure size 432x288 with 1 Axes>"
      ]
     },
     "metadata": {
      "needs_background": "light"
     },
     "output_type": "display_data"
    }
   ],
   "source": [
    "import matplotlib as plt\n",
    "import matplotlib.pyplot as plt\n",
    "plt.plot(s, y_test, label=\"Measured\")\n",
    "plt.plot(s, predictions, label='Predicted')\n",
    "plt.legend()\n",
    "plt.xlabel(\"Age\")\n",
    "plt.ylabel(\"Value\")\n",
    "plt.title(\"Measured and Prediced values\")\n",
    "plt.show()"
   ]
  }
 ],
 "metadata": {
  "kernelspec": {
   "display_name": "Python 3 (ipykernel)",
   "language": "python",
   "name": "python3"
  },
  "language_info": {
   "codemirror_mode": {
    "name": "ipython",
    "version": 3
   },
   "file_extension": ".py",
   "mimetype": "text/x-python",
   "name": "python",
   "nbconvert_exporter": "python",
   "pygments_lexer": "ipython3",
   "version": "3.10.7"
  }
 },
 "nbformat": 4,
 "nbformat_minor": 5
}
